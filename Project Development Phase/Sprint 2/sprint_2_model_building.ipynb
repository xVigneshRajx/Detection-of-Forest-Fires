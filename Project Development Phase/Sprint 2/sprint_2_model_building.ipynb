{
  "cells": [
    {
      "cell_type": "markdown",
      "metadata": {
        "id": "A3S5qEZ82XHn"
      },
      "source": [
        "Team ID:PNT2022TMlD09657"
      ]
    },
    {
      "cell_type": "markdown",
      "metadata": {
        "id": "Yq7MBIMzxa46"
      },
      "source": [
        "**Importing The ImageDataGenerator Library**"
      ]
    },
    {
      "cell_type": "code",
      "execution_count": null,
      "metadata": {
        "id": "TwbVY9ldxT5E"
      },
      "outputs": [],
      "source": [
        "import keras \n",
        "from keras.preprocessing.image import ImageDataGenerator"
      ]
    },
    {
      "cell_type": "markdown",
      "metadata": {
        "id": "449Gl96Uxb3j"
      },
      "source": [
        "**Define the parameters/arguments for ImageDataGenerator class**"
      ]
    },
    {
      "cell_type": "code",
      "execution_count": null,
      "metadata": {
        "id": "7E0B6ZFCxcAC"
      },
      "outputs": [],
      "source": [
        "train_datagen=ImageDataGenerator(rescale=1./255,shear_range=0.2,rotation_range=180,zoom_range=0.2, horizontal_flip=True)\n",
        "test_datagen=ImageDataGenerator(rescale=1./255)"
      ]
    },
    {
      "cell_type": "markdown",
      "metadata": {
        "id": "Ceh_nXLHxcId"
      },
      "source": [
        "**Applying ImageDataGenerator functionality to trainset**"
      ]
    },
    {
      "cell_type": "code",
      "execution_count": null,
      "metadata": {
        "colab": {
          "base_uri": "https://localhost:8080/"
        },
        "id": "C5FSZ_KnxcQW",
        "outputId": "c28b17a4-def3-4de0-ca2d-711ede6b63a8"
      },
      "outputs": [
        {
          "name": "stdout",
          "output_type": "stream",
          "text": [
            "Found 436 images belonging to 2 classes.\n"
          ]
        }
      ],
      "source": [
        "x_train=train_datagen.flow_from_directory(r'/content/drive/MyDrive/Dataset/train_set',target_size=(128,128),batch_size=32, class_mode='binary')"
      ]
    },
    {
      "cell_type": "markdown",
      "metadata": {
        "id": "dRHL_n10yDdC"
      },
      "source": [
        "**Applying ImageDataGenerator functionality to testset**"
      ]
    },
    {
      "cell_type": "code",
      "execution_count": null,
      "metadata": {
        "colab": {
          "base_uri": "https://localhost:8080/"
        },
        "id": "D7_3jdIqxzhv",
        "outputId": "fe7c7493-17db-41aa-d1b0-0e918b80fb34"
      },
      "outputs": [
        {
          "name": "stdout",
          "output_type": "stream",
          "text": [
            "Found 121 images belonging to 2 classes.\n"
          ]
        }
      ],
      "source": [
        "x_test=test_datagen.flow_from_directory(r'/content/drive/MyDrive/Dataset/test_set',target_size=(128,128),batch_size=32, class_mode='binary')"
      ]
    },
    {
      "cell_type": "markdown",
      "metadata": {
        "id": "6fbxEKhryYhE"
      },
      "source": [
        "**Import model building libraries**"
      ]
    },
    {
      "cell_type": "code",
      "execution_count": null,
      "metadata": {
        "id": "6RuPf8_ZyYoc"
      },
      "outputs": [],
      "source": [
        "#To define Linear initialisation import Sequential\n",
        "from keras.models import Sequential\n",
        "#To add layers import Dense\n",
        "from keras.layers import Dense\n",
        "#To create Convolution kernel import Convolution2D \n",
        "from keras.layers import Convolution2D\n",
        "#import Maxpooling layer\n",
        "from keras.layers import MaxPooling2D \n",
        "#import flatten layer\n",
        "from keras.layers import Flatten \n",
        "import warnings \n",
        "warnings.filterwarnings('ignore')"
      ]
    },
    {
      "cell_type": "markdown",
      "metadata": {
        "id": "-v8KAP49ysom"
      },
      "source": [
        "**Initializing the model**"
      ]
    },
    {
      "cell_type": "code",
      "execution_count": null,
      "metadata": {
        "id": "DvWAyoLLysza"
      },
      "outputs": [],
      "source": [
        "model=Sequential()"
      ]
    },
    {
      "cell_type": "markdown",
      "metadata": {
        "id": "luqIqx4zyykT"
      },
      "source": [
        "**Add CNN Layer**"
      ]
    },
    {
      "cell_type": "code",
      "execution_count": null,
      "metadata": {
        "id": "XsWT_D1iyyVr"
      },
      "outputs": [],
      "source": [
        "model.add(Convolution2D(32,(3,3),input_shape=(128,128,3),activation='relu')) \n",
        "#add maxpooling layer\n",
        "model.add(MaxPooling2D(pool_size=(2,2)))\n",
        "#add flatten layer\n",
        "model.add(Flatten())"
      ]
    },
    {
      "cell_type": "markdown",
      "metadata": {
        "id": "wx8nTNr9zTgl"
      },
      "source": [
        "**Add Hidden Layer**"
      ]
    },
    {
      "cell_type": "code",
      "execution_count": null,
      "metadata": {
        "id": "o3PiIaCRzRbx"
      },
      "outputs": [],
      "source": [
        " #add hidden layer\n",
        "model.add(Dense(150,activation='relu')) \n",
        "#add output layer \n",
        "model.add(Dense(1,activation='sigmoid'))"
      ]
    },
    {
      "cell_type": "markdown",
      "metadata": {
        "id": "Q0hbp_tQzY5o"
      },
      "source": [
        "**Configure the learning process**"
      ]
    },
    {
      "cell_type": "code",
      "execution_count": null,
      "metadata": {
        "id": "7QHmgxsyzZIn"
      },
      "outputs": [],
      "source": [
        "model.compile(loss='binary_crossentropy',optimizer=\"adam\",metrics=[\"accuracy\"])"
      ]
    },
    {
      "cell_type": "markdown",
      "metadata": {
        "id": "0OPIh_g-zhpc"
      },
      "source": [
        "**Train the model**"
      ]
    },
    {
      "cell_type": "code",
      "execution_count": null,
      "metadata": {
        "colab": {
          "base_uri": "https://localhost:8080/"
        },
        "id": "dbRjnLDAzkxm",
        "outputId": "32b8e981-9d3b-466a-95d3-4d8b9e924365"
      },
      "outputs": [
        {
          "name": "stdout",
          "output_type": "stream",
          "text": [
            "Epoch 1/10\n",
            "14/14 [==============================] - 205s 15s/step - loss: 2.7344 - accuracy: 0.7454 - val_loss: 0.2016 - val_accuracy: 0.9256\n",
            "Epoch 2/10\n",
            "14/14 [==============================] - 20s 1s/step - loss: 0.3267 - accuracy: 0.8945 - val_loss: 0.2290 - val_accuracy: 0.9339\n",
            "Epoch 3/10\n",
            "14/14 [==============================] - 20s 1s/step - loss: 0.2991 - accuracy: 0.8922 - val_loss: 0.0524 - val_accuracy: 0.9835\n",
            "Epoch 4/10\n",
            "14/14 [==============================] - 20s 1s/step - loss: 0.2418 - accuracy: 0.9174 - val_loss: 0.1570 - val_accuracy: 0.9421\n",
            "Epoch 5/10\n",
            "14/14 [==============================] - 20s 1s/step - loss: 0.1984 - accuracy: 0.9083 - val_loss: 0.0767 - val_accuracy: 0.9752\n",
            "Epoch 6/10\n",
            "14/14 [==============================] - 20s 1s/step - loss: 0.1643 - accuracy: 0.9335 - val_loss: 0.0749 - val_accuracy: 0.9752\n",
            "Epoch 7/10\n",
            "14/14 [==============================] - 20s 1s/step - loss: 0.1538 - accuracy: 0.9312 - val_loss: 0.1264 - val_accuracy: 0.9421\n",
            "Epoch 8/10\n",
            "14/14 [==============================] - 20s 1s/step - loss: 0.1732 - accuracy: 0.9266 - val_loss: 0.0652 - val_accuracy: 0.9835\n",
            "Epoch 9/10\n",
            "14/14 [==============================] - 20s 1s/step - loss: 0.1514 - accuracy: 0.9358 - val_loss: 0.0567 - val_accuracy: 0.9835\n",
            "Epoch 10/10\n",
            "14/14 [==============================] - 20s 1s/step - loss: 0.1445 - accuracy: 0.9404 - val_loss: 0.0448 - val_accuracy: 0.9917\n"
          ]
        },
        {
          "data": {
            "text/plain": [
              "<keras.callbacks.History at 0x7f51fdf33610>"
            ]
          },
          "execution_count": 10,
          "metadata": {},
          "output_type": "execute_result"
        }
      ],
      "source": [
        "model.fit_generator(x_train,steps_per_epoch=14,epochs=10,validation_data=x_test,validation_steps=4)"
      ]
    },
    {
      "cell_type": "markdown",
      "metadata": {
        "id": "ExX269AR2OJO"
      },
      "source": [
        "**Save The Model**"
      ]
    },
    {
      "cell_type": "code",
      "execution_count": null,
      "metadata": {
        "id": "r_HNZErV2NPz"
      },
      "outputs": [],
      "source": [
        "model.save(\"forest1.h5\")"
      ]
    },
    {
      "cell_type": "markdown",
      "metadata": {
        "id": "_KL58pMT2TR2"
      },
      "source": [
        "**Predictions**"
      ]
    },
    {
      "cell_type": "code",
      "execution_count": null,
      "metadata": {
        "id": "ojWbOAng4RRA"
      },
      "outputs": [],
      "source": [
        " #import load_model from keras.model\n",
        "from keras.models import load_model\n",
        "#import image class from keras\n",
        "from tensorflow.keras.preprocessing import image #import numpy\n",
        "import numpy as np\n",
        "#import cv2\n",
        "import cv2"
      ]
    },
    {
      "cell_type": "code",
      "execution_count": null,
      "metadata": {
        "id": "lTQgwI0x4coy"
      },
      "outputs": [],
      "source": [
        "#load the saved model\n",
        "model = load_model(\"forest1.h5\")"
      ]
    },
    {
      "cell_type": "code",
      "execution_count": null,
      "metadata": {
        "id": "iD7BChtG2Tad"
      },
      "outputs": [],
      "source": [
        "img=image.load_img(r'/content/drive/MyDrive/Dataset/test_set/forest/a.jpg')\n",
        "x=image.img_to_array(img)\n",
        "res = cv2.resize(x, dsize=(128, 128), interpolation=cv2.INTER_CUBIC)\n",
        "#expand the image shape\n",
        "x=np.expand_dims(res,axis=0)"
      ]
    },
    {
      "cell_type": "code",
      "execution_count": null,
      "metadata": {
        "colab": {
          "base_uri": "https://localhost:8080/"
        },
        "id": "YfvDp7BZ4n41",
        "outputId": "fb723c8a-7bd3-4d05-8980-91a3911c4830"
      },
      "outputs": [
        {
          "name": "stdout",
          "output_type": "stream",
          "text": [
            "1/1 [==============================] - 0s 94ms/step\n"
          ]
        }
      ],
      "source": [
        "pred= model.predict(x)"
      ]
    },
    {
      "cell_type": "code",
      "execution_count": null,
      "metadata": {
        "colab": {
          "base_uri": "https://localhost:8080/"
        },
        "id": "rcnCY5ao6hg-",
        "outputId": "d56708af-7c8b-4b7c-c624-4442dc2a1a26"
      },
      "outputs": [
        {
          "data": {
            "text/plain": [
              "array([[0.]], dtype=float32)"
            ]
          },
          "execution_count": 16,
          "metadata": {},
          "output_type": "execute_result"
        }
      ],
      "source": [
        "pred"
      ]
    }
  ],
  "metadata": {
    "colab": {
      "collapsed_sections": [],
      "provenance": []
    },
    "kernelspec": {
      "display_name": "Python 3",
      "name": "python3"
    },
    "language_info": {
      "name": "python"
    }
  },
  "nbformat": 4,
  "nbformat_minor": 0
}
