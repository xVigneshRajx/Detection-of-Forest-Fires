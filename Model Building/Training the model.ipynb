{
  "nbformat": 4,
  "nbformat_minor": 0,
  "metadata": {
    "colab": {
      "provenance": [],
      "collapsed_sections": []
    },
    "kernelspec": {
      "name": "python3",
      "display_name": "Python 3"
    },
    "language_info": {
      "name": "python"
    }
  },
  "cells": [
    {
      "cell_type": "code",
      "source": [
        "import keras\n",
        "from keras.preprocessing.image import ImageDataGenerator"
      ],
      "metadata": {
        "id": "u8d6A8tBtO9b"
      },
      "execution_count": 2,
      "outputs": []
    },
    {
      "cell_type": "code",
      "source": [
        "#Define the parameters/arguments for ImageDataGenerator class\n",
        "train_datagen=ImageDataGenerator(rescale=1./255,shear_range=0.2,rotation_range=180,zoom_range=0.2,horizontal_flip=True)\n",
        "\n",
        "test_datagen=ImageDataGenerator(rescale=1./255)"
      ],
      "metadata": {
        "id": "uPcSLSp1tal4"
      },
      "execution_count": 3,
      "outputs": []
    },
    {
      "cell_type": "code",
      "source": [
        "#Applying ImageDataGenerator functionality to trainset\n",
        "x_train=train_datagen.flow_from_directory('/content/drive/MyDrive/content/Dataset/train_set',target_size=(128,128),batch_size=32,class_mode='binary')"
      ],
      "metadata": {
        "colab": {
          "base_uri": "https://localhost:8080/"
        },
        "id": "XMIfxbZftwfr",
        "outputId": "757a9750-0775-4f76-e5bd-c93bede11e86"
      },
      "execution_count": 4,
      "outputs": [
        {
          "output_type": "stream",
          "name": "stdout",
          "text": [
            "Found 437 images belonging to 2 classes.\n"
          ]
        }
      ]
    },
    {
      "cell_type": "code",
      "source": [
        "#Applying ImageDataGenerator functionality to testset\n",
        "x_test=test_datagen.flow_from_directory('/content/drive/MyDrive/content/Dataset/test_set',target_size=(128,128),batch_size=32,class_mode='binary')"
      ],
      "metadata": {
        "colab": {
          "base_uri": "https://localhost:8080/"
        },
        "id": "KWUUiYNjt7ap",
        "outputId": "43bc31f5-e405-41ca-cb4a-16c538d5a85e"
      },
      "execution_count": 5,
      "outputs": [
        {
          "output_type": "stream",
          "name": "stdout",
          "text": [
            "Found 123 images belonging to 2 classes.\n"
          ]
        }
      ]
    },
    {
      "cell_type": "code",
      "source": [
        "#import model building libraries\n",
        "\n",
        "#To define Linear initialisation import Sequential\n",
        "from keras.models import Sequential\n",
        "#To add layers import Dense\n",
        "from keras.layers import Dense\n",
        "#To create Convolution kernel import Convolution2D\n",
        "from keras.layers import Convolution2D\n",
        "#import Maxpooling layer\n",
        "from keras.layers import MaxPooling2D\n",
        "#import flatten layer\n",
        "from keras.layers import Flatten\n",
        "import warnings\n",
        "warnings.filterwarnings('ignore')"
      ],
      "metadata": {
        "id": "mZXQltFCuCmZ"
      },
      "execution_count": 6,
      "outputs": []
    },
    {
      "cell_type": "code",
      "source": [
        "#initializing the model\n",
        "model=Sequential()"
      ],
      "metadata": {
        "id": "SaCG3BoMuGi7"
      },
      "execution_count": 7,
      "outputs": []
    },
    {
      "cell_type": "code",
      "source": [
        "#add convolutional layer\n",
        "model.add(Convolution2D(32,(3,3),input_shape=(128,128,3),activation='relu'))\n",
        "#add maxpooling layer\n",
        "model.add(MaxPooling2D(pool_size=(2,2)))\n",
        "#add flatten layer \n",
        "model.add(Flatten())"
      ],
      "metadata": {
        "id": "fMwjVki2uIqR"
      },
      "execution_count": 8,
      "outputs": []
    },
    {
      "cell_type": "code",
      "source": [
        "#add hidden layer\n",
        "model.add(Dense(150,activation='relu'))\n",
        "#add output layer\n",
        "model.add(Dense(1,activation='sigmoid'))"
      ],
      "metadata": {
        "id": "mLbO8Q0puLLS"
      },
      "execution_count": 9,
      "outputs": []
    },
    {
      "cell_type": "code",
      "source": [
        "#configure the learning process\n",
        "model.compile(loss='binary_crossentropy',optimizer=\"adam\",metrics=[\"accuracy\"])"
      ],
      "metadata": {
        "id": "Mecw7lkIuNUo"
      },
      "execution_count": 10,
      "outputs": []
    },
    {
      "cell_type": "code",
      "source": [
        "#Training the model\n",
        "model.fit_generator(x_train,steps_per_epoch=14,epochs=10,validation_data=x_test,validation_steps=4)"
      ],
      "metadata": {
        "colab": {
          "base_uri": "https://localhost:8080/"
        },
        "id": "TT7uLjUVuPzh",
        "outputId": "f57ce3b8-5852-4bae-b35b-42a4c1587b3e"
      },
      "execution_count": 11,
      "outputs": [
        {
          "output_type": "stream",
          "name": "stdout",
          "text": [
            "Epoch 1/10\n",
            "14/14 [==============================] - 81s 6s/step - loss: 2.3887 - accuracy: 0.6156 - val_loss: 0.2800 - val_accuracy: 0.8537\n",
            "Epoch 2/10\n",
            "14/14 [==============================] - 17s 1s/step - loss: 0.3605 - accuracy: 0.8032 - val_loss: 0.1479 - val_accuracy: 0.9350\n",
            "Epoch 3/10\n",
            "14/14 [==============================] - 17s 1s/step - loss: 0.2798 - accuracy: 0.8581 - val_loss: 0.1009 - val_accuracy: 0.9756\n",
            "Epoch 4/10\n",
            "14/14 [==============================] - 17s 1s/step - loss: 0.2264 - accuracy: 0.9039 - val_loss: 0.0920 - val_accuracy: 0.9756\n",
            "Epoch 5/10\n",
            "14/14 [==============================] - 17s 1s/step - loss: 0.1976 - accuracy: 0.9130 - val_loss: 0.1842 - val_accuracy: 0.9268\n",
            "Epoch 6/10\n",
            "14/14 [==============================] - 17s 1s/step - loss: 0.2196 - accuracy: 0.8970 - val_loss: 0.0771 - val_accuracy: 0.9756\n",
            "Epoch 7/10\n",
            "14/14 [==============================] - 17s 1s/step - loss: 0.1988 - accuracy: 0.9108 - val_loss: 0.0725 - val_accuracy: 0.9837\n",
            "Epoch 8/10\n",
            "14/14 [==============================] - 17s 1s/step - loss: 0.1994 - accuracy: 0.9062 - val_loss: 0.2453 - val_accuracy: 0.9024\n",
            "Epoch 9/10\n",
            "14/14 [==============================] - 17s 1s/step - loss: 0.2871 - accuracy: 0.8650 - val_loss: 0.1109 - val_accuracy: 0.9593\n",
            "Epoch 10/10\n",
            "14/14 [==============================] - 17s 1s/step - loss: 0.1774 - accuracy: 0.9268 - val_loss: 0.0676 - val_accuracy: 0.9756\n"
          ]
        },
        {
          "output_type": "execute_result",
          "data": {
            "text/plain": [
              "<keras.callbacks.History at 0x7f0221cc3350>"
            ]
          },
          "metadata": {},
          "execution_count": 11
        }
      ]
    }
  ]
}